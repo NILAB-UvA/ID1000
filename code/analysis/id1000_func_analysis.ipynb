{
 "cells": [
  {
   "cell_type": "markdown",
   "metadata": {},
   "source": [
    "# Some analyses of the ID1000 dataset"
   ]
  },
  {
   "cell_type": "code",
   "execution_count": null,
   "metadata": {},
   "outputs": [],
   "source": [
    "import imageio\n",
    "import numpy as np\n",
    "import pandas as pd\n",
    "import joblib as jl\n",
    "import nibabel as nib\n",
    "import matplotlib.pyplot as plt\n",
    "from glob import glob\n",
    "from tqdm import tqdm_notebook\n",
    "from nilearn import plotting, image, signal, masking\n",
    "from nistats.first_level_model import FirstLevelModel\n",
    "from nistats.second_level_model import SecondLevelModel\n",
    "from joblib import Parallel, delayed\n",
    "\n",
    "from scipy.interpolate import interp1d\n",
    "from nistats.hemodynamic_models import glover_hrf\n",
    "from scipy.io import loadmat\n",
    "%matplotlib inline"
   ]
  },
  {
   "cell_type": "markdown",
   "metadata": {},
   "source": [
    "Define \"parameters\" of fMRI data and movie stimulus"
   ]
  },
  {
   "cell_type": "code",
   "execution_count": null,
   "metadata": {},
   "outputs": [],
   "source": [
    "t_fmri = 290 * 2.2\n",
    "fps = 25\n",
    "n_frames = 16500\n",
    "timepoints = 220  # fmri\n",
    "tr = 2.2"
   ]
  },
  {
   "cell_type": "markdown",
   "metadata": {},
   "source": [
    "Let's compute luminance as a regressor for our first-level models."
   ]
  },
  {
   "cell_type": "code",
   "execution_count": null,
   "metadata": {},
   "outputs": [],
   "source": [
    "filename = '../ID1000_XVIDAVI_169.avi'\n",
    "vid = imageio.get_reader(filename, 'ffmpeg')\n",
    "\n",
    "lums = np.zeros((n_frames, 3))\n",
    "for i, img in tqdm_notebook(enumerate(vid.iter_data())):\n",
    "    # Compute luminance for fMRI design matrix\n",
    "    lums[i, 0] = np.sum(img * [0.3, 0.58, 0.11])\n",
    "    lums[i, 1] = np.sum(img * [0.25, 0.25, -.5])\n",
    "    lums[i, 2] = np.sum(img[:, :, [0, 1]] * [0.5, -.5])"
   ]
  },
  {
   "cell_type": "markdown",
   "metadata": {},
   "source": [
    "And plot it."
   ]
  },
  {
   "cell_type": "code",
   "execution_count": null,
   "metadata": {},
   "outputs": [],
   "source": [
    "fig, axes = plt.subplots(ncols=3, nrows=3, figsize=(15, 9))\n",
    "t = np.arange(n_frames) / fps\n",
    "hrf = glover_hrf(tr=1, oversampling=fps)\n",
    "hrf /= hrf.max()\n",
    "\n",
    "lum_df = pd.DataFrame()\n",
    "for i in range(3):\n",
    "\n",
    "    axes[i, 0].plot(t, lums[:, i])\n",
    "    axes[i, 0].set_title(\"Raw luminance\")\n",
    "\n",
    "    # Convolve and downsample\n",
    "    lum_conv = np.convolve(lums[:, i], hrf)[:n_frames]\n",
    "    resampler = interp1d(t, lum_conv)\n",
    "\n",
    "    # Set sample time at midpoint in TR\n",
    "    t_fmri = np.linspace(tr / 2, timepoints * tr + tr / 2, 290, endpoint=False)\n",
    "    lum_conv_resamp = resampler(t_fmri)\n",
    "\n",
    "    # Standardize\n",
    "    lum_conv_resamp = (lum_conv_resamp - lum_conv_resamp.mean()) / lum_conv_resamp.std()\n",
    "    axes[i, 1].plot(t_fmri, lum_conv_resamp)\n",
    "    axes[i, 1].set_title(\"HRF convolved lum\")\n",
    "\n",
    "    lum_conv_resamp_diff = np.r_[0, np.diff(lum_conv_resamp)]\n",
    "    lum_conv_resamp_diff = (lum_conv_resamp_diff - lum_conv_resamp_diff.mean()) / lum_conv_resamp_diff.std()\n",
    "    axes[i, 2].plot(t_fmri, lum_conv_resamp_diff)\n",
    "    axes[i, 2].set_title(\"Diff HRF convolved lum\")\n",
    "    lum_df[f'lum{i}'] = lum_conv_resamp\n",
    "\n",
    "fig.show()"
   ]
  },
  {
   "cell_type": "markdown",
   "metadata": {},
   "source": [
    "Load complexity parameters and create regressors."
   ]
  },
  {
   "cell_type": "code",
   "execution_count": null,
   "metadata": {},
   "outputs": [],
   "source": [
    "compl = loadmat('ID1000_complexity.mat')\n",
    "compl = np.c_[compl['SC'], compl['CE'], compl['BETA'], compl['GAMMA']]\n",
    "compl[np.isnan(compl)] = 0\n",
    "    \n",
    "cols = ['SC_' + c for c in '012'] + \\\n",
    "       ['CE_' + c for c in '012'] + \\\n",
    "       ['beta_' + c for c in '012'] + \\\n",
    "       ['gamma_' + c for c in '012']\n",
    "\n",
    "compl = pd.DataFrame(compl, columns=cols)\n",
    "\n",
    "fig, axes = plt.subplots(ncols=3, nrows=4, sharex=True, figsize=(15, 10))\n",
    "dm_compl = pd.DataFrame()\n",
    "for i, (col, ax) in enumerate(zip(compl.columns, axes.flatten())):\n",
    "    dat = compl[col].values\n",
    "    dat_conv = np.convolve(dat, hrf)[:n_frames]\n",
    "    resampler = interp1d(t, dat_conv)\n",
    "    dat_conv_resamp = resampler(t_fmri)\n",
    "    dat_conv_resamp = (dat_conv_resamp - dat_conv_resamp.mean()) / dat_conv_resamp.std()\n",
    "    \n",
    "    ax.plot(dat_conv_resamp)\n",
    "    ax.set_title(col, fontsize=15)\n",
    "    dm_compl.loc[:, col] = dat_conv_resamp\n",
    "\n",
    "fig.tight_layout()\n",
    "\n",
    "# Remove beta/gamma\n",
    "dm_compl = dm_compl.drop(['beta_0', 'beta_1', 'beta_2', 'gamma_0', 'gamma_1', 'gamma_2'], axis=1)"
   ]
  },
  {
   "cell_type": "code",
   "execution_count": null,
   "metadata": {},
   "outputs": [],
   "source": [
    "lum_df.index = t_fmri\n",
    "dm_compl.index = lum_df.index\n",
    "dm = pd.concat((lum_df, dm_compl), axis=1)\n",
    "dm_compl.to_csv('design_matrix_complexity.tsv', sep='\\t')\n",
    "dm.corr()"
   ]
  },
  {
   "cell_type": "code",
   "execution_count": null,
   "metadata": {},
   "outputs": [],
   "source": [
    "n_sub = 300\n",
    "fmris = sorted(glob('../../derivatives/fmriprep/sub*/func/*space-MNI*bold.nii.gz'))[:n_sub]\n",
    "\n",
    "def fit_parallel(fmri):\n",
    "    conf = fmri.replace(\n",
    "        'space-MNI152NLin2009cAsym_desc-preproc_bold.nii.gz',\n",
    "        'desc-confounds_regressors.tsv'\n",
    "    )\n",
    "    conf = pd.read_csv(conf, sep='\\t')\n",
    "    cols = [col for col in conf.columns if 'cosine' in col or 'trans' in col or 'rot' in col]\n",
    "    conf = conf.loc[:, cols]\n",
    "    conf.index = dm.index\n",
    "    dm_ = pd.concat((conf, dm), axis=1)\n",
    "    dm_ = dm_.fillna(0)\n",
    "    dm_['icept'] = 1\n",
    "    \n",
    "    flm = FirstLevelModel(\n",
    "        t_r=2.2,\n",
    "        mask_img=fmri.replace('preproc_bold', 'brain_mask'),\n",
    "        smoothing_fwhm=5,\n",
    "        minimize_memory=False\n",
    "    )\n",
    "    flm.fit(run_imgs=fmri, design_matrices=dm_)\n",
    "    return flm\n",
    "\n",
    "flms = Parallel(n_jobs=25)(delayed(fit_parallel)(f) for f in tqdm_notebook(fmris))\n",
    "jl.dum(flms, 'models.jl')"
   ]
  },
  {
   "cell_type": "code",
   "execution_count": null,
   "metadata": {},
   "outputs": [],
   "source": [
    "slm = SecondLevelModel()\n",
    "slm.fit(flms)\n",
    "img = slm.compute_contrast(first_level_contrast='lum0')\n",
    "plotting.view_img(img, threshold=1.7)"
   ]
  },
  {
   "cell_type": "code",
   "execution_count": null,
   "metadata": {},
   "outputs": [],
   "source": [
    "slm = SecondLevelModel()\n",
    "slm.fit(flms)\n",
    "img = slm.compute_contrast(first_level_contrast='lum1')\n",
    "plotting.view_img(img, threshold=1.7)"
   ]
  },
  {
   "cell_type": "code",
   "execution_count": null,
   "metadata": {},
   "outputs": [],
   "source": [
    "slm = SecondLevelModel()\n",
    "slm.fit(flms)\n",
    "img = slm.compute_contrast(first_level_contrast='lum2')\n",
    "plotting.view_img(img, threshold=1.7)"
   ]
  },
  {
   "cell_type": "code",
   "execution_count": null,
   "metadata": {},
   "outputs": [],
   "source": [
    "slm = SecondLevelModel()\n",
    "slm.fit(flms)\n",
    "img = slm.compute_contrast(first_level_contrast='SC_R')\n",
    "plotting.view_img(img, threshold=1.7)"
   ]
  },
  {
   "cell_type": "code",
   "execution_count": null,
   "metadata": {},
   "outputs": [],
   "source": [
    "slm = SecondLevelModel()\n",
    "slm.fit(flms)\n",
    "img = slm.compute_contrast(first_level_contrast='SC_R')\n",
    "plotting.view_img(img, threshold=1.7)"
   ]
  },
  {
   "cell_type": "code",
   "execution_count": null,
   "metadata": {},
   "outputs": [],
   "source": []
  },
  {
   "cell_type": "markdown",
   "metadata": {},
   "source": [
    "Check TSNR."
   ]
  },
  {
   "cell_type": "code",
   "execution_count": null,
   "metadata": {},
   "outputs": [],
   "source": [
    "def fit_parallel_tsnr(fmri, smooth=None, remove_confounds=False):\n",
    "    \n",
    "    mask_img = fmri.replace('preproc_bold', 'brain_mask')\n",
    "    img = image.load_img(fmri)\n",
    "    if smooth is not None:\n",
    "        img = image.smooth_img(img, fwhm=smooth)\n",
    "    \n",
    "    if remove_confounds:\n",
    "        conf = fmri.replace(\n",
    "            'space-MNI152NLin2009cAsym_desc-preproc_bold.nii.gz',\n",
    "            'desc-confounds_regressors.tsv'\n",
    "        )\n",
    "        conf = pd.read_csv(conf, sep='\\t')\n",
    "        cols = [col for col in conf.columns if 'cosine' in col or 'trans' in col or 'rot' in col]\n",
    "        conf = conf.loc[:, cols]\n",
    "        conf = conf.fillna(0)\n",
    "    \n",
    "        mean_img = image.mean_img(fmri)\n",
    "        ts = masking.apply_mask(fmri, mask_img)\n",
    "        ts = signal.clean(ts, confounds=conf.values)\n",
    "        ts += masking.apply_mask(mean_img, mask_img)\n",
    "    else:\n",
    "        ts = masking.apply_mask(img, mask_img)\n",
    "\n",
    "    ts = ts.mean(axis=0) / ts.std(axis=0)\n",
    "    tsnr = masking.unmask(ts, mask_img)    \n",
    "    return tsnr\n",
    "\n",
    "tsnrs = Parallel(n_jobs=25)(delayed(fit_parallel_tsnr)(f) for f in tqdm_notebook(fmris))"
   ]
  },
  {
   "cell_type": "code",
   "execution_count": null,
   "metadata": {},
   "outputs": [],
   "source": [
    "tmp = image.mean_img(tsnrs).get_fdata()\n",
    "tmp = tmp[tmp != 0]\n",
    "plt.hist(tmp)"
   ]
  },
  {
   "cell_type": "code",
   "execution_count": null,
   "metadata": {},
   "outputs": [],
   "source": [
    "plotting.view_img(image.mean_img(tsnrs), vmax=150)"
   ]
  }
 ],
 "metadata": {
  "kernelspec": {
   "display_name": "Python 3",
   "language": "python",
   "name": "python3"
  },
  "language_info": {
   "codemirror_mode": {
    "name": "ipython",
    "version": 3
   },
   "file_extension": ".py",
   "mimetype": "text/x-python",
   "name": "python",
   "nbconvert_exporter": "python",
   "pygments_lexer": "ipython3",
   "version": "3.7.3"
  }
 },
 "nbformat": 4,
 "nbformat_minor": 2
}
